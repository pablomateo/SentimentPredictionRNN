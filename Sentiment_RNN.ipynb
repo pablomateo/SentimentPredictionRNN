{
 "cells": [
  {
   "cell_type": "markdown",
   "metadata": {},
   "source": [
    "# Sentiment Analysis with an RNN\n",
    "\n",
    "In this notebook, you'll implement a recurrent neural network that performs sentiment analysis. Using an RNN rather than a feedfoward network is more accurate since we can include information about the *sequence* of words. Here we'll use a dataset of movie reviews, accompanied by labels.\n",
    "\n",
    "The architecture for this network is shown below.\n",
    "\n",
    "<img src=\"assets/network_diagram.png\" width=400px>\n",
    "\n",
    "Here, we'll pass in words to an embedding layer. We need an embedding layer because we have tens of thousands of words, so we'll need a more efficient representation for our input data than one-hot encoded vectors. You should have seen this before from the word2vec lesson. You can actually train up an embedding with word2vec and use it here. But it's good enough to just have an embedding layer and let the network learn the embedding table on it's own.\n",
    "\n",
    "From the embedding layer, the new representations will be passed to LSTM cells. These will add recurrent connections to the network so we can include information about the sequence of words in the data. Finally, the LSTM cells will go to a sigmoid output layer here. We're using the sigmoid because we're trying to predict if this text has positive or negative sentiment. The output layer will just be a single unit then, with a sigmoid activation function.\n",
    "\n",
    "We don't care about the sigmoid outputs except for the very last one, we can ignore the rest. We'll calculate the cost from the output of the last step and the training label."
   ]
  },
  {
   "cell_type": "code",
   "execution_count": 1,
   "metadata": {},
   "outputs": [
    {
     "name": "stderr",
     "output_type": "stream",
     "text": [
      "/Users/pablomateofdez/anaconda3/envs/tensorflow/lib/python3.5/importlib/_bootstrap.py:222: RuntimeWarning: compiletime version 3.6 of module 'tensorflow.python.framework.fast_tensor_util' does not match runtime version 3.5\n",
      "  return f(*args, **kwds)\n"
     ]
    }
   ],
   "source": [
    "import numpy as np\n",
    "import tensorflow as tf"
   ]
  },
  {
   "cell_type": "code",
   "execution_count": 2,
   "metadata": {},
   "outputs": [],
   "source": [
    "with open('../sentiment-network/reviews.txt', 'r') as f:\n",
    "    reviews = f.read()\n",
    "with open('../sentiment-network/labels.txt', 'r') as f:\n",
    "    labels = f.read()"
   ]
  },
  {
   "cell_type": "code",
   "execution_count": 3,
   "metadata": {},
   "outputs": [
    {
     "data": {
      "text/plain": [
       "'bromwell high is a cartoon comedy . it ran at the same time as some other programs about school life  such as  teachers  . my   years in the teaching profession lead me to believe that bromwell high  s satire is much closer to reality than is  teachers  . the scramble to survive financially  the insightful students who can see right through their pathetic teachers  pomp  the pettiness of the whole situation  all remind me of the schools i knew and their students . when i saw the episode in which a student repeatedly tried to burn down the school  i immediately recalled . . . . . . . . . at . . . . . . . . . . high . a classic line inspector i  m here to sack one of your teachers . student welcome to bromwell high . i expect that many adults of my age think that bromwell high is far fetched . what a pity that it isn  t   \\nstory of a man who has unnatural feelings for a pig . starts out with a opening scene that is a terrific example of absurd comedy . a formal orchestra audience is turned into an insane  violent mob by the crazy chantings of it  s singers . unfortunately it stays absurd the whole time with no general narrative eventually making it just too off putting . even those from the era should be turned off . the cryptic dialogue would make shakespeare seem easy to a third grader . on a technical level it  s better than you might think with some good cinematography by future great vilmos zsigmond . future stars sally kirkland and frederic forrest can be seen briefly .  \\nhomelessness  or houselessness as george carlin stated  has been an issue for years but never a plan to help those on the street that were once considered human who did everything from going to school  work  or vote for the matter . most people think of the homeless as just a lost cause while worrying about things such as racism  the war on iraq  pressuring kids to succeed  technology  the elections  inflation  or worrying if they  ll be next to end up on the streets .  br    br   but what if y'"
      ]
     },
     "execution_count": 3,
     "metadata": {},
     "output_type": "execute_result"
    }
   ],
   "source": [
    "reviews[:2000]"
   ]
  },
  {
   "cell_type": "markdown",
   "metadata": {},
   "source": [
    "## Data preprocessing\n",
    "\n",
    "The first step when building a neural network model is getting your data into the proper form to feed into the network. Since we're using embedding layers, we'll need to encode each word with an integer. We'll also want to clean it up a bit.\n",
    "\n",
    "You can see an example of the reviews data above. We'll want to get rid of those periods. Also, you might notice that the reviews are delimited with newlines `\\n`. To deal with those, I'm going to split the text into each review using `\\n` as the delimiter. Then I can combined all the reviews back together into one big string.\n",
    "\n",
    "First, let's remove all punctuation. Then get all the text without the newlines and split it into individual words."
   ]
  },
  {
   "cell_type": "code",
   "execution_count": 4,
   "metadata": {},
   "outputs": [],
   "source": [
    "from string import punctuation\n",
    "all_text = ''.join([c for c in reviews if c not in punctuation])\n",
    "reviews = all_text.split('\\n')\n",
    "\n",
    "all_text = ' '.join(reviews)\n",
    "words = all_text.split()"
   ]
  },
  {
   "cell_type": "code",
   "execution_count": 5,
   "metadata": {},
   "outputs": [
    {
     "data": {
      "text/plain": [
       "'bromwell high is a cartoon comedy  it ran at the same time as some other programs about school life  such as  teachers   my   years in the teaching profession lead me to believe that bromwell high  s satire is much closer to reality than is  teachers   the scramble to survive financially  the insightful students who can see right through their pathetic teachers  pomp  the pettiness of the whole situation  all remind me of the schools i knew and their students  when i saw the episode in which a student repeatedly tried to burn down the school  i immediately recalled          at           high  a classic line inspector i  m here to sack one of your teachers  student welcome to bromwell high  i expect that many adults of my age think that bromwell high is far fetched  what a pity that it isn  t    story of a man who has unnatural feelings for a pig  starts out with a opening scene that is a terrific example of absurd comedy  a formal orchestra audience is turned into an insane  violent mob by the crazy chantings of it  s singers  unfortunately it stays absurd the whole time with no general narrative eventually making it just too off putting  even those from the era should be turned off  the cryptic dialogue would make shakespeare seem easy to a third grader  on a technical level it  s better than you might think with some good cinematography by future great vilmos zsigmond  future stars sally kirkland and frederic forrest can be seen briefly    homelessness  or houselessness as george carlin stated  has been an issue for years but never a plan to help those on the street that were once considered human who did everything from going to school  work  or vote for the matter  most people think of the homeless as just a lost cause while worrying about things such as racism  the war on iraq  pressuring kids to succeed  technology  the elections  inflation  or worrying if they  ll be next to end up on the streets   br    br   but what if you were given a bet to live on the st'"
      ]
     },
     "execution_count": 5,
     "metadata": {},
     "output_type": "execute_result"
    }
   ],
   "source": [
    "all_text[:2000]"
   ]
  },
  {
   "cell_type": "code",
   "execution_count": 6,
   "metadata": {},
   "outputs": [
    {
     "data": {
      "text/plain": [
       "['bromwell',\n",
       " 'high',\n",
       " 'is',\n",
       " 'a',\n",
       " 'cartoon',\n",
       " 'comedy',\n",
       " 'it',\n",
       " 'ran',\n",
       " 'at',\n",
       " 'the',\n",
       " 'same',\n",
       " 'time',\n",
       " 'as',\n",
       " 'some',\n",
       " 'other',\n",
       " 'programs',\n",
       " 'about',\n",
       " 'school',\n",
       " 'life',\n",
       " 'such',\n",
       " 'as',\n",
       " 'teachers',\n",
       " 'my',\n",
       " 'years',\n",
       " 'in',\n",
       " 'the',\n",
       " 'teaching',\n",
       " 'profession',\n",
       " 'lead',\n",
       " 'me',\n",
       " 'to',\n",
       " 'believe',\n",
       " 'that',\n",
       " 'bromwell',\n",
       " 'high',\n",
       " 's',\n",
       " 'satire',\n",
       " 'is',\n",
       " 'much',\n",
       " 'closer',\n",
       " 'to',\n",
       " 'reality',\n",
       " 'than',\n",
       " 'is',\n",
       " 'teachers',\n",
       " 'the',\n",
       " 'scramble',\n",
       " 'to',\n",
       " 'survive',\n",
       " 'financially',\n",
       " 'the',\n",
       " 'insightful',\n",
       " 'students',\n",
       " 'who',\n",
       " 'can',\n",
       " 'see',\n",
       " 'right',\n",
       " 'through',\n",
       " 'their',\n",
       " 'pathetic',\n",
       " 'teachers',\n",
       " 'pomp',\n",
       " 'the',\n",
       " 'pettiness',\n",
       " 'of',\n",
       " 'the',\n",
       " 'whole',\n",
       " 'situation',\n",
       " 'all',\n",
       " 'remind',\n",
       " 'me',\n",
       " 'of',\n",
       " 'the',\n",
       " 'schools',\n",
       " 'i',\n",
       " 'knew',\n",
       " 'and',\n",
       " 'their',\n",
       " 'students',\n",
       " 'when',\n",
       " 'i',\n",
       " 'saw',\n",
       " 'the',\n",
       " 'episode',\n",
       " 'in',\n",
       " 'which',\n",
       " 'a',\n",
       " 'student',\n",
       " 'repeatedly',\n",
       " 'tried',\n",
       " 'to',\n",
       " 'burn',\n",
       " 'down',\n",
       " 'the',\n",
       " 'school',\n",
       " 'i',\n",
       " 'immediately',\n",
       " 'recalled',\n",
       " 'at',\n",
       " 'high']"
      ]
     },
     "execution_count": 6,
     "metadata": {},
     "output_type": "execute_result"
    }
   ],
   "source": [
    "words[:100]"
   ]
  },
  {
   "cell_type": "code",
   "execution_count": 7,
   "metadata": {},
   "outputs": [
    {
     "name": "stdout",
     "output_type": "stream",
     "text": [
      "6020196\n"
     ]
    }
   ],
   "source": [
    "print(len(words))"
   ]
  },
  {
   "cell_type": "markdown",
   "metadata": {},
   "source": [
    "### Encoding the words\n",
    "\n",
    "The embedding lookup requires that we pass in integers to our network. The easiest way to do this is to create dictionaries that map the words in the vocabulary to integers. Then we can convert each of our reviews into integers so they can be passed into the network.\n",
    "\n",
    "> **Exercise:** Now you're going to encode the words with integers. Build a dictionary that maps words to integers. Later we're going to pad our input vectors with zeros, so make sure the integers **start at 1, not 0**.\n",
    "> Also, convert the reviews to integers and store the reviews in a new list called `reviews_ints`. "
   ]
  },
  {
   "cell_type": "code",
   "execution_count": 8,
   "metadata": {},
   "outputs": [
    {
     "name": "stdout",
     "output_type": "stream",
     "text": [
      "Valor que tiene la palabra dia: 62656\n",
      "\n",
      "{'ambassadors': 37442, 'liken': 32300, 'pbs': 9696, 'parentingwhere': 46418, 'hagerthy': 34982, 'rusell': 60203, 'revolutionized': 26224, 'nero': 24103, 'saith': 46417, 'flippen': 13558}\n",
      "\n",
      "[[21610, 308, 6, 3, 1051, 207, 8, 2142, 32, 1, 171, 57, 15, 49, 81, 5817, 44, 382, 110, 140, 15, 5217, 60, 154, 9, 1, 5003, 5857, 475, 71, 5, 260, 12, 21610, 308, 13, 1979, 6, 74, 2402, 5, 614, 73, 6, 5217, 1, 25981, 5, 1983, 10174, 1, 5837, 1502, 36, 51, 66, 204, 145, 67, 1202, 5217, 20200, 1, 40788, 4, 1, 221, 883, 31, 2993, 71, 4, 1, 5815, 10, 686, 2, 67, 1502, 54, 10, 216, 1, 383, 9, 62, 3, 1408, 3706, 783, 5, 3483, 180, 1, 382, 10, 1214, 13602, 32, 308, 3, 349, 341, 2917, 10, 143, 127, 5, 7809, 30, 4, 129, 5217, 1408, 2333, 5, 21610, 308, 10, 528, 12, 109, 1450, 4, 60, 543, 102, 12, 21610, 308, 6, 227, 4164, 48, 3, 2217, 12, 8, 215, 23], [63, 4, 3, 125, 36, 47, 7503, 1395, 16, 3, 4200, 505, 45, 17, 3, 622, 134, 12, 6, 3, 1279, 457, 4, 1722, 207, 3, 10856, 7393, 300, 6, 667, 83, 35, 2120, 1086, 3004, 34, 1, 898, 55861, 4, 8, 13, 5126, 464, 8, 2657, 1722, 1, 221, 57, 17, 58, 796, 1297, 834, 228, 8, 43, 98, 123, 1470, 59, 147, 38, 1, 965, 142, 29, 667, 123, 1, 14002, 410, 61, 94, 1778, 306, 756, 5, 3, 819, 10534, 22, 3, 1726, 635, 8, 13, 128, 73, 21, 233, 102, 17, 49, 50, 617, 34, 684, 85, 30878, 29653, 684, 374, 3341, 11644, 2, 16396, 7981, 51, 29, 108, 3327], [23247, 42, 51714, 15, 706, 17570, 3402, 47, 77, 35, 1819, 16, 154, 19, 114, 3, 1306, 5, 336, 147, 22, 1, 857, 12, 70, 281, 1169, 399, 36, 120, 283, 38, 169, 5, 382, 158, 42, 2269, 16, 1, 541, 90, 78, 102, 4, 1, 3263, 15, 43, 3, 407, 1068, 136, 8069, 44, 182, 140, 15, 3046, 1, 321, 22, 4829, 27541, 346, 5, 3091, 2095, 1, 19064, 18553, 42, 8069, 46, 33, 236, 29, 370, 5, 130, 56, 22, 1, 1929, 7, 7, 19, 48, 46, 21, 70, 344, 3, 2103, 5, 408, 22, 1, 1929, 16, 3, 3123, 205, 1, 30841, 21, 281, 68, 38, 3, 339, 1, 700, 715, 3, 3838, 1229, 22, 1, 1492, 3, 1197, 2, 283, 21, 281, 2441, 5, 66, 48, 8, 13, 39, 5, 29, 3263, 12, 6, 22148, 11891, 13, 2021, 7, 7, 3696, 2829, 36, 4176, 36, 374, 15, 11891, 296, 3, 996, 125, 36, 47, 283, 9, 1, 176, 363, 6912, 5, 94, 3, 2103, 17, 3, 4987, 2944, 14849, 19911, 5, 66, 46, 25, 51, 408, 9, 1, 1929, 16, 3241, 490, 205, 1, 30841, 46, 11891, 2851, 25, 51, 80, 48, 25, 483, 17, 3, 684, 1149, 4, 228, 52, 4494, 1, 2103, 13, 22, 118, 11891, 6, 1347, 22, 1, 857, 17, 3, 19354, 22, 27, 3889, 5, 10363, 27, 174, 829, 118, 25, 51, 23, 1459, 123, 1, 6487, 25, 13, 344, 1, 13681, 29866, 34, 3, 34737, 101, 8, 13, 391, 22, 27, 11851, 118, 11891, 874, 81, 103, 577, 3, 240, 34, 1, 393, 4, 4682, 17115, 1817, 3748, 35, 1203, 3104, 36, 188, 4054, 160, 2285, 41, 339, 2, 41, 8839, 6856, 1986, 4343, 2, 29670, 8956, 2464, 36, 26, 453, 338, 5, 1, 1929, 33, 155, 4227, 11891, 215, 23, 25, 13, 24, 338, 5, 4452, 5931, 31083, 39, 25, 281, 120, 54, 111, 996, 118, 8, 13, 534, 42, 2725, 501, 42, 29, 547, 7, 7, 136, 1, 115, 2009, 198, 4682, 2, 11891, 285, 23, 1648, 5, 112, 10, 254, 110, 4357, 5, 29, 30, 4, 3696, 2829, 15962, 107, 118, 2531, 5, 111, 3, 207, 8, 286, 3, 4242, 488, 1061, 5, 27, 2731, 158, 140, 15, 7528, 11529, 184, 4568, 42, 19317, 16, 1, 541, 5, 121, 48, 8, 13, 39, 255, 141, 4515, 160, 2285, 8, 1, 370, 245, 42, 22, 1, 81, 495, 228, 3, 372, 2103, 39, 31, 996, 78, 80, 54, 33, 89, 23, 122, 48, 5, 80, 17, 67, 273, 277, 33, 142, 200, 8, 5, 1, 3263, 303, 4, 757, 8, 39, 17930, 273, 7, 7, 42, 277, 11, 20, 79, 5872, 21, 5, 336, 400], [4529, 505, 15, 3, 3344, 162, 8462, 1653, 6, 4823, 56, 17, 4515, 5672, 140, 11874, 5, 996, 4974, 2935, 4485, 566, 1199, 36, 6, 1519, 96, 3, 744, 4, 27088, 13, 5, 27, 3482, 9, 10726, 4, 8, 111, 3021, 5, 1, 1027, 15, 3, 4414, 82, 22, 2059, 6, 4485, 538, 2775, 7076, 44058, 41, 463, 1, 8462, 56492, 302, 123, 15, 4250, 19, 1667, 923, 1, 1653, 6, 6139, 20948, 34, 1, 980, 1759, 23702, 646, 25127, 27, 106, 11734, 13, 14546, 15119, 18836, 2464, 466, 21520, 36, 3276, 1, 6414, 1020, 45, 17, 2702, 2502, 33, 1306, 5, 2081, 1, 4515, 12002, 1493, 22, 3, 22321, 1653, 3202, 22, 35, 4318, 1067, 19, 136, 228, 27, 4694, 23702, 217, 1913, 35, 3220, 17792, 9, 1, 4156, 1966, 1113, 4, 1, 1653, 5648, 8, 6607, 83, 1, 1960, 118, 8, 8160, 5, 1, 1303, 204, 4002, 9, 1, 641, 4, 1, 34474, 5885, 17, 923, 9, 343, 6243, 1047, 31270, 9, 255, 15884, 119, 1988, 123, 259, 1, 695, 12347, 16, 1, 4826, 13, 15, 33, 12520, 336, 17, 57, 688, 609, 45, 7, 7, 82, 560, 458, 1, 1056, 271, 31226, 4529, 11, 330, 738, 5, 1, 6777, 557, 1666, 690, 4529, 14, 516, 34, 1435, 9159, 136, 281, 173, 39, 8, 13, 8373, 10, 51, 23, 133, 4529, 6, 100, 428, 4, 1530, 349, 8, 6, 440, 256, 24, 2687, 16, 1, 204, 988, 45, 4, 1, 287, 4529, 107, 10, 28, 108, 37, 227, 10, 165, 418, 11, 30, 1, 117, 43, 8, 47, 60, 1622, 112, 4, 1, 287, 17, 3, 324, 1667, 923, 6139, 34252, 93, 1, 6607, 161, 23, 25, 66, 1, 3220, 17792, 6244, 4, 1, 277, 1, 1155, 70, 264, 5, 1640, 1, 201, 4529, 17, 159, 1044, 1666, 494, 4, 1, 791, 1, 36762, 1115, 19345, 6, 118, 8, 2657, 363, 1, 130, 17, 3, 5245, 6301, 4411, 147, 2585, 983, 342, 39431, 54, 1, 923, 1106, 45, 42, 10922, 15, 1, 24969, 42, 46, 100, 4, 1, 3534, 26, 3021, 8, 13, 3, 531, 322, 12, 97, 28, 91, 16, 3, 85, 116, 1666, 494, 19, 76, 6800, 104, 13, 740, 410, 12252, 265, 1300, 3, 146, 574, 4, 2327, 42, 817, 42, 1054, 801, 11, 6, 3, 1026, 1404, 136, 1, 246, 12795, 112, 920, 30, 2150, 16, 1007, 229, 24, 12, 74, 559, 101, 1, 1653, 8160, 40, 13, 24, 15, 74, 8843, 15, 10, 195, 40, 142, 28, 77, 59, 54, 1, 2916, 409, 562, 182, 89, 23, 1237, 56, 12, 74, 17, 3, 170, 648, 4, 653, 5111, 10799, 1519, 44, 19, 40, 13, 43, 141, 1868, 127, 706, 4019, 15, 1, 38378, 12268, 3444, 865, 43597, 6, 144, 19, 64, 211, 3, 369, 4, 137, 1177, 59, 549, 231, 16633, 5, 43, 167, 3746, 9, 1, 958, 7, 7, 1, 339, 366, 2224, 310, 4, 4529, 507, 229, 136, 1, 178, 242, 2034, 747, 35, 1688, 522, 4, 909, 577, 3, 162, 622, 878, 703, 109, 52, 137, 17, 706, 4019, 15, 43597, 2124, 5, 2080, 45, 104, 13, 1185, 2198, 137, 1, 3781, 42, 159, 369, 4, 340, 2310, 577, 1, 32691, 136, 10, 61, 39, 5, 66, 11, 1688, 909, 10, 239, 24, 249, 10, 97, 848, 145, 3, 733, 287, 522, 584, 4, 4529, 15, 853, 1, 20, 47, 1939, 889, 17, 517, 7890, 7435, 1574, 2802, 10, 79, 133, 58, 52, 81, 73, 1, 2821, 1653, 2121, 298, 696, 23, 85, 342, 364, 17, 1, 81, 106, 4529, 2263, 11, 302, 3077, 4, 269, 9, 1, 10658, 1315, 13, 2280, 4, 879, 256, 10, 51, 102, 4, 761, 4, 429, 107, 73, 11, 37, 10, 11042, 12, 13, 3, 116, 2466, 1, 202, 137, 26, 3, 116, 740, 464, 1, 1040, 6, 539, 24, 74, 2288, 42, 1054, 6, 4825, 62, 6, 3, 879, 15, 10, 11042, 11, 97, 28, 77, 3, 183, 50, 20, 46, 91, 2854, 7, 7, 1, 360, 1205, 26, 2626, 46, 163, 2069, 1, 113, 215, 23, 85, 106, 57, 708, 2192, 669, 3976, 47, 301, 234, 8, 14, 3, 1295, 5, 318, 9, 11, 30, 57, 708, 2192, 566, 1199, 268, 153, 11178, 82, 30, 57, 708, 2192, 743, 1970, 268, 1794, 136, 2651, 1331, 743, 6, 344, 116, 5, 80, 40, 26, 936, 4, 81, 1062, 1563, 5, 167, 45, 16, 98, 7, 7, 4529, 6, 1, 90, 1666, 21776, 4, 1, 287, 4529, 107, 37, 227, 10, 418, 1, 989, 485, 8, 59, 46, 33, 70, 3, 223, 694, 1, 360, 1897, 451, 151, 23, 336, 150, 3, 20, 44, 3, 15804, 1653, 43, 1588, 23, 29, 11, 354, 42, 12252, 1457, 34, 1, 23264, 4529], [520, 119, 113, 34, 17115, 1817, 3748, 117, 885, 22323, 721, 10, 28, 124, 108, 2, 115, 137, 9, 1624, 7707, 26, 330, 5, 589, 1, 6145, 22, 386, 6, 3, 349, 15, 50, 15, 231, 9, 7528, 11529, 1, 191, 22, 9052, 6, 82, 880, 101, 111, 3591, 4, 111, 3, 31070, 3454, 45, 27, 1327, 2, 111, 12456, 1, 2371, 4, 29866, 11891, 24788, 33680, 10, 143, 3, 2371, 25, 549, 287, 164, 697, 4036, 19911, 3, 502, 38, 1, 299, 2647, 6603, 121, 6, 759, 127, 98, 15, 3, 1136, 5112, 36, 483, 5, 4218, 1, 6691, 27, 104, 6, 52, 10580, 73, 633, 1, 1520, 134, 2, 1, 134, 118, 1, 3263, 17610, 3, 14299, 2104, 26, 31, 57, 2184, 167, 16, 1, 2956, 134, 2, 1, 106, 192, 16099, 976, 30, 26212, 11, 18, 211, 128, 253, 57, 10, 66, 8, 62, 6, 179, 396], [11, 20, 3641, 141, 10, 423, 23, 272, 60, 4377, 22, 32, 84, 3299, 22, 1, 172, 4, 1, 952, 506, 11, 4999, 5365, 5, 574, 4, 1154, 54, 53, 5307, 1, 261, 17, 41, 952, 125, 59, 1, 711, 137, 379, 626, 15, 111, 1509, 1, 156, 32, 292, 8, 97, 55, 72, 28, 77, 1, 157, 36, 45387, 48, 25, 871, 38, 1, 156, 10, 43, 89, 23, 122, 7, 7, 19, 97, 8, 28, 77, 1, 861, 43, 605, 36, 14, 1, 8820, 9, 115, 17, 25, 460, 52, 15417, 4, 27, 32053, 1941, 2, 3704, 2, 1092, 4, 309, 2, 27, 6152, 6097, 73, 4, 1702, 42, 231, 326, 25, 114, 2316, 71, 25, 14, 9, 115, 17, 1, 2489, 7, 7, 10, 14, 672, 9, 11, 18, 19, 89, 23, 836, 8, 14, 2271, 16, 35, 708, 37, 1858, 16, 610], [11, 6, 693, 1, 90, 2163, 20, 11828, 1, 2829, 5212, 249, 92, 3006, 8, 126, 24, 200, 3, 802, 634, 4, 23247, 1002, 133, 87, 3549, 3349, 510, 3, 802, 634, 4, 16923, 5126, 42, 2563, 510, 3, 802, 634, 4, 9054, 21, 3718, 109, 4, 1, 624, 787, 1010, 19, 131, 11, 20, 6, 55, 3182, 9, 3, 95, 109, 1259, 26, 24, 2, 5, 1575, 12, 123, 9, 3, 63, 44, 49, 4, 1, 90, 12041, 23130, 1039, 4, 876, 6, 365, 1132, 92, 24, 1, 3459, 607, 19, 92, 24, 582, 342, 60, 64, 3268, 6, 12, 2829, 142, 28, 177, 279, 326, 9, 1, 475, 10, 115, 3696, 15, 3, 157, 2, 533, 24, 37, 74, 15, 3, 475], [786, 295, 10, 122, 11, 6, 419, 5, 29, 35, 482, 20, 19, 1282, 33, 142, 28, 2656, 45, 1843, 32, 1, 2786, 37, 78, 97, 2438, 67, 3956, 45, 2, 24, 105, 256, 1, 134, 1574, 2, 12422, 451, 14, 319, 11, 63, 6, 98, 1321, 5, 105, 1, 3768, 4, 3, 473, 1383, 14, 1736, 1, 59599, 648, 70, 98, 194, 87, 194, 51, 21, 105, 106, 78, 43, 1238, 40, 2, 642, 257, 54, 1, 410, 6, 106, 78, 5279, 10, 65, 68, 3, 250, 57, 43, 390, 145, 11, 20, 1, 351, 70, 319, 19, 87, 74, 4, 12, 454, 14599, 3603, 529, 51, 21, 191, 1, 64, 152, 10, 418, 14, 7113, 14734, 2, 41, 736, 2683, 2, 1073, 134, 881, 11, 14, 3, 7512, 4, 4410, 2, 10, 143, 58, 331, 1312, 27, 342, 10, 102, 251, 36, 549, 33, 499, 620, 4, 11, 6, 72, 3153], [11, 6, 24, 1, 779, 3696, 2829, 20, 8, 14, 74, 325, 2731, 73, 90, 4, 27, 99, 2, 165, 68, 3, 112, 12, 14, 29368, 2782, 1817, 3748, 91, 1, 18, 53, 6, 140, 3, 759, 458, 1124, 506, 40, 70, 49, 381, 12, 97, 28, 77, 6571, 45, 3, 223, 52, 2, 49, 137, 12, 97, 238, 28, 77, 584, 5, 94, 1, 654, 5, 80, 37, 19, 31, 9, 31, 11, 6, 288, 1, 1784, 5, 831, 2, 66, 8, 1, 113, 14, 50, 442, 2829, 309, 120, 3, 50, 289, 205, 27, 7587, 1362, 5, 2514, 5, 1, 300, 173, 3748, 14, 1, 117, 270, 9, 1, 18, 19, 39666, 2, 6856, 197, 252, 67, 521, 72], [54, 10, 14, 116, 60, 798, 552, 71, 364, 5, 1, 730, 5, 66, 8132, 8, 14, 30, 4, 109, 99, 10, 293, 17, 60, 798, 19, 11, 14, 1, 64, 30, 69, 2500, 45, 4, 234, 93, 10, 68, 114, 108, 8132, 363, 43, 1009, 2, 10, 97, 28, 1432, 45, 1, 357, 4, 60, 110, 205, 8, 48, 3, 1928, 10914, 2, 2128, 354, 412, 4, 13, 6626, 2, 2986, 5174, 2125, 1371, 6, 30, 4, 60, 502, 875, 19, 8132, 6, 34, 227, 1, 247, 412, 4, 582, 4, 27, 599, 9, 1, 13863, 397, 4, 14288, 16515, 1371, 403, 178, 3, 454, 21206, 9114, 2612, 9, 5, 1, 450, 4, 3, 212, 11762, 34, 1, 1948, 3987, 2151, 34, 4054, 23238, 599, 115, 683, 115, 71614, 824, 1, 20, 4646, 47, 58, 681, 2113, 58, 224, 2, 6, 14280, 9, 9677, 6871, 11, 20, 397, 51, 29, 117, 4771, 15, 12922, 9, 851, 757, 35, 25071, 4148, 4, 410, 5, 14414, 3, 52, 10074, 1112, 4, 1191, 2, 856, 19, 2125, 1371, 6, 58, 14288, 4410, 1, 20, 6, 2128, 539, 2, 740, 19, 705, 12, 10, 328, 68, 58, 2009, 17, 42, 2476, 16, 100, 4, 1, 103, 303, 10, 416, 64, 6036, 16, 11, 5161, 4, 18200, 6562, 29534, 16083, 29184, 9, 3, 11855, 2644, 16, 2017, 8377, 3, 4090, 4, 22949, 38832, 2, 8120, 38774, 31487, 1, 63, 20296, 39, 3, 7429, 9, 1, 654, 295, 2440, 9, 3853, 16752, 2, 11095, 1074, 198, 11070, 295, 6, 407, 2, 2488, 1647, 5, 168, 451, 42, 1885, 42, 824, 2, 8, 43, 266, 22, 2, 22, 5, 1, 210, 118, 21, 43, 181, 5, 3621, 31, 4, 96, 8, 13, 114, 44, 3431, 8, 13, 64, 44, 9808, 13672, 13498, 8, 6, 163, 52, 73, 3, 1948, 448, 613, 5, 35, 1539, 705, 1, 300, 13, 1231, 5, 3755, 2125, 1371, 2437, 5, 94, 103, 37, 9357, 9, 525, 69, 230, 313, 45, 2, 16, 12, 284, 10, 254, 11, 18, 2128, 524, 5095, 2, 18162, 13759, 10, 66, 48, 25, 14, 169, 16, 19, 27, 13400, 22, 8488, 27, 729, 145, 24512, 16062, 2, 8251, 20, 3326, 33940, 8, 491, 1, 210, 4, 7105, 10, 535, 380, 11, 30, 46, 21, 155, 537, 3, 116, 98, 631, 2, 355, 141, 5, 2993, 21, 4, 333, 881, 278, 13, 43, 3887, 11, 20, 114, 563]]\n"
     ]
    }
   ],
   "source": [
    "# Create your dictionary that maps vocab words to integers here\n",
    "#vocab_to_int = dict(zip(words, (i for i in range(0, len(words)))))\n",
    "from collections import Counter\n",
    "counts = Counter(words)\n",
    "vocab = sorted(counts, key=counts.get, reverse=True)\n",
    "vocab_to_int = {word: ii for ii, word in enumerate(vocab, 1)}\n",
    "\n",
    "#print(vocab_to_int)\n",
    "print('Valor que tiene la palabra dia: {}'.format(vocab_to_int['dia']))\n",
    "print()\n",
    "#Imprimimos los 10 primeros para ver que está correcto\n",
    "print({k: vocab_to_int[k] for k in list(vocab_to_int)[:10]})\n",
    "\n",
    "# Convert the reviews to integers, same shape as reviews list, but with integers\n",
    "reviews_ints = []\n",
    "# Iteramos por cada review completa\n",
    "for each in reviews:\n",
    "    # Añadimos al array el resultado de hacer lo siguiente\n",
    "    # reviews_ints.append()\n",
    "        # Usamos cada palabra del review como key del diccionario para obtener su valor.\n",
    "        # vocab_to_int[word]\n",
    "            # Esto lo hacemos para cada palabra del review\n",
    "            # for word in ___\n",
    "                # Para que sea por cada palabra, las separamos\n",
    "                # each.split()        \n",
    "    reviews_ints.append([vocab_to_int[word] for word in each.split()])\n",
    "    \n",
    "print()\n",
    "print(reviews_ints[:10])"
   ]
  },
  {
   "cell_type": "markdown",
   "metadata": {},
   "source": [
    "### Encoding the labels\n",
    "\n",
    "Our labels are \"positive\" or \"negative\". To use these labels in our network, we need to convert them to 0 and 1.\n",
    "\n",
    "> **Exercise:** Convert labels from `positive` and `negative` to 1 and 0, respectively."
   ]
  },
  {
   "cell_type": "code",
   "execution_count": 9,
   "metadata": {},
   "outputs": [
    {
     "name": "stdout",
     "output_type": "stream",
     "text": [
      "Numbre of opinions: 225000\n",
      "['positive', 'negative', 'positive', 'negative', 'positive', 'negative', 'positive', 'negative', 'positive', 'negative']\n",
      "[1, 0, 1, 0, 1, 0, 1, 0, 1, 0]\n",
      "\n",
      "[0 0 0 0 0 0 0 0 0 0 0 0 0 0 0 0 0 0 0 0 0 0 0 0 0 0 0 0 0 0 0 0 0 0 0 0 0\n",
      " 0 0 0 0 0 0 0 0 0 0 0 0 0 0 0 0 0 0 0 0 0 0 0 0 0 0 0 0 0 0 0 0 0 0 0 0 0\n",
      " 0 0 0 0 0 0 0 0 0 0 0 0 0 0 0 0 0 0 0 0 0 0 0 0 0 0]\n"
     ]
    }
   ],
   "source": [
    "# Convert labels to 1s and 0s for 'positive' and 'negative'\n",
    "#labels = []\n",
    "\n",
    "labelsAsList = labels.split('\\n')\n",
    "labelsAsInts = []\n",
    "for opinion in labelsAsList:\n",
    "    if opinion == 'positive':\n",
    "        labelsAsInts.append(1)\n",
    "    if opinion == 'negative':\n",
    "        labelsAsInts.append(0)\n",
    "        \n",
    "#labels = np.array(labelsAsInts)\n",
    "labels = np.array([1 if each == 'positive' else 0 for each in labels])\n",
    "        \n",
    "print('Numbre of opinions: {}'.format(len(labels)))\n",
    "print(labelsAsList[:10])\n",
    "print(labelsAsInts[:10])\n",
    "\n",
    "print()\n",
    "print(labels[:100])"
   ]
  },
  {
   "cell_type": "markdown",
   "metadata": {},
   "source": [
    "If you built `labels` correctly, you should see the next output."
   ]
  },
  {
   "cell_type": "code",
   "execution_count": 10,
   "metadata": {},
   "outputs": [
    {
     "name": "stdout",
     "output_type": "stream",
     "text": [
      "Zero-length reviews: 1\n",
      "Maximum review length: 2514\n"
     ]
    }
   ],
   "source": [
    "from collections import Counter\n",
    "review_lens = Counter([len(x) for x in reviews_ints])\n",
    "print(\"Zero-length reviews: {}\".format(review_lens[0]))\n",
    "print(\"Maximum review length: {}\".format(max(review_lens)))"
   ]
  },
  {
   "cell_type": "markdown",
   "metadata": {},
   "source": [
    "Okay, a couple issues here. We seem to have one review with zero length. And, the maximum review length is way too many steps for our RNN. Let's truncate to 200 steps. For reviews shorter than 200, we'll pad with 0s. For reviews longer than 200, we can truncate them to the first 200 characters.\n",
    "\n",
    "> **Exercise:** First, remove the review with zero length from the `reviews_ints` list."
   ]
  },
  {
   "cell_type": "code",
   "execution_count": 11,
   "metadata": {},
   "outputs": [
    {
     "name": "stdout",
     "output_type": "stream",
     "text": [
      "25001\n",
      "Found one with length: 0\n",
      "25000\n"
     ]
    }
   ],
   "source": [
    "# Filter out that review with 0 length\n",
    "#reviews_ints = \n",
    "\n",
    "print(len(reviews_ints))\n",
    "\n",
    "for review in reviews_ints:\n",
    "    if len(review) == 0:\n",
    "        print('Found one with length: {}'.format(len(review)))\n",
    "        reviews_ints.remove(review)\n",
    "\n",
    "print(len(reviews_ints))\n"
   ]
  },
  {
   "cell_type": "code",
   "execution_count": 12,
   "metadata": {},
   "outputs": [],
   "source": [
    "non_zero_idx = [ii for ii, review in enumerate(reviews_ints) if len(review) != 0]\n",
    "reviews_ints = [reviews_ints[ii] for ii in non_zero_idx]\n",
    "labels = np.array([labels[ii] for ii in non_zero_idx])\n"
   ]
  },
  {
   "cell_type": "markdown",
   "metadata": {},
   "source": [
    "> **Exercise:** Now, create an array `features` that contains the data we'll pass to the network. The data should come from `review_ints`, since we want to feed integers to the network. Each row should be 200 elements long. For reviews shorter than 200 words, left pad with 0s. That is, if the review is `['best', 'movie', 'ever']`, `[117, 18, 128]` as integers, the row will look like `[0, 0, 0, ..., 0, 117, 18, 128]`. For reviews longer than 200, use on the first 200 words as the feature vector.\n",
    "\n",
    "This isn't trivial and there are a bunch of ways to do this. But, if you're going to be building your own deep learning networks, you're going to have to get used to preparing your data.\n",
    "\n"
   ]
  },
  {
   "cell_type": "code",
   "execution_count": 13,
   "metadata": {},
   "outputs": [],
   "source": [
    "seq_len = 200\n",
    "features = [] \n",
    "\n",
    "for review in reviews_ints:\n",
    "    if len(review) < seq_len:\n",
    "        # print(len(review))\n",
    "        zerosLi = [0] * (seq_len - len(review))\n",
    "        review.extend(zerosLi)\n",
    "        # review.insert(0,zerosLi)\n",
    "        # print(len(review))\n",
    "    else:\n",
    "        review = review[:200]\n",
    "        \n",
    "    features.append(review)\n",
    "    \n",
    "features = np.array(features)\n",
    "features = np.fliplr(features)\n",
    "    "
   ]
  },
  {
   "cell_type": "markdown",
   "metadata": {},
   "source": [
    "If you build features correctly, it should look like that cell output below."
   ]
  },
  {
   "cell_type": "code",
   "execution_count": 14,
   "metadata": {},
   "outputs": [
    {
     "data": {
      "text/plain": [
       "array([[    0,     0,     0,     0,     0,     0,     0,     0,     0,\n",
       "            0,     0,     0,     0,     0,     0,     0,     0,     0,\n",
       "            0,     0,     0,     0,     0,     0,     0,     0,     0,\n",
       "            0,     0,     0,     0,     0,     0,     0,     0,     0,\n",
       "            0,     0,     0,     0,     0,     0,     0,     0,     0,\n",
       "            0,     0,     0,     0,     0,     0,     0,     0,     0,\n",
       "            0,     0,     0,     0,     0,     0,    23,   215,     8,\n",
       "           12,  2217,     3,    48,  4164,   227,     6,   308, 21610,\n",
       "           12,   102,   543,    60,     4,  1450,   109,    12,   528,\n",
       "           10,   308, 21610,     5,  2333,  1408,  5217,   129,     4,\n",
       "           30,  7809,     5,   127,   143,    10,  2917,   341,   349,\n",
       "            3,   308,    32, 13602,  1214,    10,   382,     1,   180,\n",
       "         3483,     5,   783,  3706,  1408,     3,    62,     9,   383,\n",
       "            1,   216,    10,    54,  1502,    67,     2,   686,    10,\n",
       "         5815,     1,     4,    71,  2993,    31,   883,   221,     1,\n",
       "            4, 40788,     1, 20200,  5217,  1202,    67,   145,   204,\n",
       "           66,    51,    36,  1502,  5837,     1, 10174,  1983,     5,\n",
       "        25981,     1,  5217,     6,    73,   614,     5,  2402,    74,\n",
       "            6,  1979,    13,   308, 21610,    12,   260,     5,    71,\n",
       "          475,  5857,  5003,     1,     9,   154,    60,  5217,    15,\n",
       "          140,   110,   382,    44,  5817,    81,    49,    15,    57,\n",
       "          171,     1,    32,  2142,     8,   207,  1051,     3,     6,\n",
       "          308, 21610]])"
      ]
     },
     "execution_count": 14,
     "metadata": {},
     "output_type": "execute_result"
    }
   ],
   "source": [
    "features[:1,:200]"
   ]
  },
  {
   "cell_type": "markdown",
   "metadata": {},
   "source": [
    "## Training, Validation, Test\n",
    "\n"
   ]
  },
  {
   "cell_type": "markdown",
   "metadata": {},
   "source": [
    "With our data in nice shape, we'll split it into training, validation, and test sets.\n",
    "\n",
    "> **Exercise:** Create the training, validation, and test sets here. You'll need to create sets for the features and the labels, `train_x` and `train_y` for example. Define a split fraction, `split_frac` as the fraction of data to keep in the training set. Usually this is set to 0.8 or 0.9. The rest of the data will be split in half to create the validation and testing data."
   ]
  },
  {
   "cell_type": "code",
   "execution_count": 15,
   "metadata": {},
   "outputs": [
    {
     "name": "stdout",
     "output_type": "stream",
     "text": [
      "25000\n",
      "20000.0\n",
      "\n",
      "20000\n",
      "5000\n"
     ]
    }
   ],
   "source": [
    "print(len(features))\n",
    "print(len(features) * 0.8)\n",
    "print()\n",
    "print(len(features[:int(len(features)*0.8)]))\n",
    "print(len(features[int(len(features)*0.8):]))"
   ]
  },
  {
   "cell_type": "code",
   "execution_count": 16,
   "metadata": {},
   "outputs": [
    {
     "name": "stdout",
     "output_type": "stream",
     "text": [
      "\t\t\tFeature Shapes:\n",
      "Train set: \t\t(20000, 200) \n",
      "Validation set: \t(2500, 200) \n",
      "Test set: \t\t(2500, 200)\n"
     ]
    }
   ],
   "source": [
    "split_frac = 0.8\n",
    "\n",
    "train_x, val_x = features[:int(len(features)*split_frac)], features[int(len(features)*split_frac):]\n",
    "train_y, val_y = labels[:int(len(features)*split_frac)], labels[int(len(features)*split_frac):]\n",
    "\n",
    "val_x, test_x = val_x[:int(len(val_x)/2)], val_x[int(len(val_x)/2):]\n",
    "val_y, test_y = val_y[:int(len(val_x)/2)], val_y[int(len(val_x)/2):]\n",
    "\n",
    "\n",
    "print(\"\\t\\t\\tFeature Shapes:\")\n",
    "print(\"Train set: \\t\\t{}\".format(train_x.shape), \n",
    "      \"\\nValidation set: \\t{}\".format(val_x.shape),\n",
    "      \"\\nTest set: \\t\\t{}\".format(test_x.shape))"
   ]
  },
  {
   "cell_type": "markdown",
   "metadata": {},
   "source": [
    "With train, validation, and text fractions of 0.8, 0.1, 0.1, the final shapes should look like:\n",
    "```\n",
    "                    Feature Shapes:\n",
    "Train set: \t\t (20000, 200) \n",
    "Validation set: \t(2500, 200) \n",
    "Test set: \t\t  (2500, 200)\n",
    "```"
   ]
  },
  {
   "cell_type": "markdown",
   "metadata": {},
   "source": [
    "## Build the graph\n",
    "\n",
    "Here, we'll build the graph. First up, defining the hyperparameters.\n",
    "\n",
    "* `lstm_size`: Number of units in the hidden layers in the LSTM cells. Usually larger is better performance wise. Common values are 128, 256, 512, etc.\n",
    "* `lstm_layers`: Number of LSTM layers in the network. I'd start with 1, then add more if I'm underfitting.\n",
    "* `batch_size`: The number of reviews to feed the network in one training pass. Typically this should be set as high as you can go without running out of memory.\n",
    "* `learning_rate`: Learning rate"
   ]
  },
  {
   "cell_type": "code",
   "execution_count": 17,
   "metadata": {},
   "outputs": [],
   "source": [
    "lstm_size = 256\n",
    "lstm_layers = 1\n",
    "batch_size = 500\n",
    "learning_rate = 0.001"
   ]
  },
  {
   "cell_type": "markdown",
   "metadata": {},
   "source": [
    "For the network itself, we'll be passing in our 200 element long review vectors. Each batch will be `batch_size` vectors. We'll also be using dropout on the LSTM layer, so we'll make a placeholder for the keep probability."
   ]
  },
  {
   "cell_type": "markdown",
   "metadata": {},
   "source": [
    "> **Exercise:** Create the `inputs_`, `labels_`, and drop out `keep_prob` placeholders using `tf.placeholder`. `labels_` needs to be two-dimensional to work with some functions later.  Since `keep_prob` is a scalar (a 0-dimensional tensor), you shouldn't provide a size to `tf.placeholder`."
   ]
  },
  {
   "cell_type": "code",
   "execution_count": 18,
   "metadata": {},
   "outputs": [],
   "source": [
    "n_words = len(vocab_to_int) + 1 # Adding 1 because we use 0's for padding, dictionary started at 1\n",
    "\n",
    "# Create the graph object\n",
    "graph = tf.Graph()\n",
    "# Add nodes to the graph\n",
    "with graph.as_default():\n",
    "    inputs_ = tf.placeholder(tf.int32, [None, None], name='inputs')\n",
    "    labels_ = tf.placeholder(tf.int32, [None, None], name='labels')\n",
    "    keep_prob = tf.placeholder(tf.float32, name='keep_prob')"
   ]
  },
  {
   "cell_type": "markdown",
   "metadata": {},
   "source": [
    "### Embedding\n",
    "\n",
    "Now we'll add an embedding layer. We need to do this because there are 74000 words in our vocabulary. It is massively inefficient to one-hot encode our classes here. You should remember dealing with this problem from the word2vec lesson. Instead of one-hot encoding, we can have an embedding layer and use that layer as a lookup table. You could train an embedding layer using word2vec, then load it here. But, it's fine to just make a new layer and let the network learn the weights.\n",
    "\n",
    "> **Exercise:** Create the embedding lookup matrix as a `tf.Variable`. Use that embedding matrix to get the embedded vectors to pass to the LSTM cell with [`tf.nn.embedding_lookup`](https://www.tensorflow.org/api_docs/python/tf/nn/embedding_lookup). This function takes the embedding matrix and an input tensor, such as the review vectors. Then, it'll return another tensor with the embedded vectors. So, if the embedding layer has 200 units, the function will return a tensor with size [batch_size, 200].\n",
    "\n"
   ]
  },
  {
   "cell_type": "code",
   "execution_count": 19,
   "metadata": {},
   "outputs": [],
   "source": [
    "# Size of the embedding vectors (number of units in the embedding layer)\n",
    "embed_size = 300 \n",
    "\n",
    "with graph.as_default():\n",
    "    embedding = tf.Variable(tf.random_uniform((n_words, embed_size), -1, 1))\n",
    "    embed = tf.nn.embedding_lookup(embedding, inputs_)"
   ]
  },
  {
   "cell_type": "markdown",
   "metadata": {},
   "source": [
    "### LSTM cell\n",
    "\n",
    "<img src=\"assets/network_diagram.png\" width=400px>\n",
    "\n",
    "Next, we'll create our LSTM cells to use in the recurrent network ([TensorFlow documentation](https://www.tensorflow.org/api_docs/python/tf/contrib/rnn)). Here we are just defining what the cells look like. This isn't actually building the graph, just defining the type of cells we want in our graph.\n",
    "\n",
    "To create a basic LSTM cell for the graph, you'll want to use `tf.contrib.rnn.BasicLSTMCell`. Looking at the function documentation:\n",
    "\n",
    "```\n",
    "tf.contrib.rnn.BasicLSTMCell(num_units, forget_bias=1.0, input_size=None, state_is_tuple=True, activation=<function tanh at 0x109f1ef28>)\n",
    "```\n",
    "\n",
    "you can see it takes a parameter called `num_units`, the number of units in the cell, called `lstm_size` in this code. So then, you can write something like \n",
    "\n",
    "```\n",
    "lstm = tf.contrib.rnn.BasicLSTMCell(num_units)\n",
    "```\n",
    "\n",
    "to create an LSTM cell with `num_units`. Next, you can add dropout to the cell with `tf.contrib.rnn.DropoutWrapper`. This just wraps the cell in another cell, but with dropout added to the inputs and/or outputs. It's a really convenient way to make your network better with almost no effort! So you'd do something like\n",
    "\n",
    "```\n",
    "drop = tf.contrib.rnn.DropoutWrapper(cell, output_keep_prob=keep_prob)\n",
    "```\n",
    "\n",
    "Most of the time, your network will have better performance with more layers. That's sort of the magic of deep learning, adding more layers allows the network to learn really complex relationships. Again, there is a simple way to create multiple layers of LSTM cells with `tf.contrib.rnn.MultiRNNCell`:\n",
    "\n",
    "```\n",
    "cell = tf.contrib.rnn.MultiRNNCell([drop] * lstm_layers)\n",
    "```\n",
    "\n",
    "Here, `[drop] * lstm_layers` creates a list of cells (`drop`) that is `lstm_layers` long. The `MultiRNNCell` wrapper builds this into multiple layers of RNN cells, one for each cell in the list.\n",
    "\n",
    "So the final cell you're using in the network is actually multiple (or just one) LSTM cells with dropout. But it all works the same from an architectural viewpoint, just a more complicated graph in the cell.\n",
    "\n",
    "> **Exercise:** Below, use `tf.contrib.rnn.BasicLSTMCell` to create an LSTM cell. Then, add drop out to it with `tf.contrib.rnn.DropoutWrapper`. Finally, create multiple LSTM layers with `tf.contrib.rnn.MultiRNNCell`.\n",
    "\n",
    "Here is [a tutorial on building RNNs](https://www.tensorflow.org/tutorials/recurrent) that will help you out.\n"
   ]
  },
  {
   "cell_type": "code",
   "execution_count": 20,
   "metadata": {},
   "outputs": [],
   "source": [
    "with graph.as_default():\n",
    "    # Your basic LSTM cell\n",
    "    lstm = tf.contrib.rnn.BasicLSTMCell(lstm_size)\n",
    "    \n",
    "    # Add dropout to the cell\n",
    "    drop = tf.contrib.rnn.DropoutWrapper(lstm, output_keep_prob=keep_prob)\n",
    "    \n",
    "    # Stack up multiple LSTM layers, for deep learning\n",
    "    cell = tf.contrib.rnn.MultiRNNCell([drop] * lstm_layers)\n",
    "    \n",
    "    # Getting an initial state of all zeros\n",
    "    initial_state = cell.zero_state(batch_size, tf.float32)"
   ]
  },
  {
   "cell_type": "markdown",
   "metadata": {},
   "source": [
    "### RNN forward pass\n",
    "\n",
    "<img src=\"assets/network_diagram.png\" width=400px>\n",
    "\n",
    "Now we need to actually run the data through the RNN nodes. You can use [`tf.nn.dynamic_rnn`](https://www.tensorflow.org/api_docs/python/tf/nn/dynamic_rnn) to do this. You'd pass in the RNN cell you created (our multiple layered LSTM `cell` for instance), and the inputs to the network.\n",
    "\n",
    "```\n",
    "outputs, final_state = tf.nn.dynamic_rnn(cell, inputs, initial_state=initial_state)\n",
    "```\n",
    "\n",
    "Above I created an initial state, `initial_state`, to pass to the RNN. This is the cell state that is passed between the hidden layers in successive time steps. `tf.nn.dynamic_rnn` takes care of most of the work for us. We pass in our cell and the input to the cell, then it does the unrolling and everything else for us. It returns outputs for each time step and the final_state of the hidden layer.\n",
    "\n",
    "> **Exercise:** Use `tf.nn.dynamic_rnn` to add the forward pass through the RNN. Remember that we're actually passing in vectors from the embedding layer, `embed`.\n",
    "\n"
   ]
  },
  {
   "cell_type": "code",
   "execution_count": 21,
   "metadata": {},
   "outputs": [],
   "source": [
    "with graph.as_default():\n",
    "    outputs, final_state = tf.nn.dynamic_rnn(cell, embed, initial_state=initial_state)"
   ]
  },
  {
   "cell_type": "markdown",
   "metadata": {},
   "source": [
    "### Output\n",
    "\n",
    "We only care about the final output, we'll be using that as our sentiment prediction. So we need to grab the last output with `outputs[:, -1]`, the calculate the cost from that and `labels_`."
   ]
  },
  {
   "cell_type": "code",
   "execution_count": 22,
   "metadata": {},
   "outputs": [],
   "source": [
    "with graph.as_default():\n",
    "    predictions = tf.contrib.layers.fully_connected(outputs[:, -1], 1, activation_fn=tf.sigmoid)\n",
    "    cost = tf.losses.mean_squared_error(labels_, predictions)\n",
    "    \n",
    "    optimizer = tf.train.AdamOptimizer(learning_rate).minimize(cost)"
   ]
  },
  {
   "cell_type": "markdown",
   "metadata": {},
   "source": [
    "### Validation accuracy\n",
    "\n",
    "Here we can add a few nodes to calculate the accuracy which we'll use in the validation pass."
   ]
  },
  {
   "cell_type": "code",
   "execution_count": 23,
   "metadata": {},
   "outputs": [],
   "source": [
    "with graph.as_default():\n",
    "    correct_pred = tf.equal(tf.cast(tf.round(predictions), tf.int32), labels_)\n",
    "    accuracy = tf.reduce_mean(tf.cast(correct_pred, tf.float32))"
   ]
  },
  {
   "cell_type": "markdown",
   "metadata": {},
   "source": [
    "### Batching\n",
    "\n",
    "This is a simple function for returning batches from our data. First it removes data such that we only have full batches. Then it iterates through the `x` and `y` arrays and returns slices out of those arrays with size `[batch_size]`."
   ]
  },
  {
   "cell_type": "code",
   "execution_count": 24,
   "metadata": {},
   "outputs": [],
   "source": [
    "def get_batches(x, y, batch_size=100):\n",
    "    \n",
    "    n_batches = len(x)//batch_size\n",
    "    x, y = x[:n_batches*batch_size], y[:n_batches*batch_size]\n",
    "    for ii in range(0, len(x), batch_size):\n",
    "        yield x[ii:ii+batch_size], y[ii:ii+batch_size]"
   ]
  },
  {
   "cell_type": "markdown",
   "metadata": {},
   "source": [
    "## Training\n",
    "\n",
    "Below is the typical training code. If you want to do this yourself, feel free to delete all this code and implement it yourself. Before you run this, make sure the `checkpoints` directory exists."
   ]
  },
  {
   "cell_type": "code",
   "execution_count": null,
   "metadata": {},
   "outputs": [],
   "source": [
    "epochs = 10\n",
    "\n",
    "with graph.as_default():\n",
    "    saver = tf.train.Saver()\n",
    "\n",
    "with tf.Session(graph=graph) as sess:\n",
    "    sess.run(tf.global_variables_initializer())\n",
    "    iteration = 1\n",
    "    for e in range(epochs):\n",
    "        state = sess.run(initial_state)\n",
    "        \n",
    "        for ii, (x, y) in enumerate(get_batches(train_x, train_y, batch_size), 1):\n",
    "            feed = {inputs_: x,\n",
    "                    labels_: y[:, None],\n",
    "                    keep_prob: 0.5,\n",
    "                    initial_state: state}\n",
    "            loss, state, _ = sess.run([cost, final_state, optimizer], feed_dict=feed)\n",
    "            \n",
    "            if iteration%5==0:\n",
    "                print(\"Epoch: {}/{}\".format(e, epochs),\n",
    "                      \"Iteration: {}\".format(iteration),\n",
    "                      \"Train loss: {:.3f}\".format(loss))\n",
    "\n",
    "            if iteration%25==0:\n",
    "                val_acc = []\n",
    "                val_state = sess.run(cell.zero_state(batch_size, tf.float32))\n",
    "                for x, y in get_batches(val_x, val_y, batch_size):\n",
    "                    feed = {inputs_: x,\n",
    "                            labels_: y[:, None],\n",
    "                            keep_prob: 1,\n",
    "                            initial_state: val_state}\n",
    "                    batch_acc, val_state = sess.run([accuracy, final_state], feed_dict=feed)\n",
    "                    val_acc.append(batch_acc)\n",
    "                print(\"Val acc: {:.3f}\".format(np.mean(val_acc)))\n",
    "            iteration +=1\n",
    "    saver.save(sess, \"checkpoints/sentiment.ckpt\")"
   ]
  },
  {
   "cell_type": "markdown",
   "metadata": {},
   "source": [
    "## Testing"
   ]
  },
  {
   "cell_type": "code",
   "execution_count": null,
   "metadata": {},
   "outputs": [],
   "source": [
    "test_acc = []\n",
    "with tf.Session(graph=graph) as sess:\n",
    "    saver.restore(sess, tf.train.latest_checkpoint('checkpoints'))\n",
    "    test_state = sess.run(cell.zero_state(batch_size, tf.float32))\n",
    "    for ii, (x, y) in enumerate(get_batches(test_x, test_y, batch_size), 1):\n",
    "        feed = {inputs_: x,\n",
    "                labels_: y[:, None],\n",
    "                keep_prob: 1,\n",
    "                initial_state: test_state}\n",
    "        batch_acc, test_state = sess.run([accuracy, final_state], feed_dict=feed)\n",
    "        test_acc.append(batch_acc)\n",
    "    print(\"Test accuracy: {:.3f}\".format(np.mean(test_acc)))"
   ]
  }
 ],
 "metadata": {
  "kernelspec": {
   "display_name": "Python 3",
   "language": "python",
   "name": "python3"
  },
  "language_info": {
   "codemirror_mode": {
    "name": "ipython",
    "version": 3
   },
   "file_extension": ".py",
   "mimetype": "text/x-python",
   "name": "python",
   "nbconvert_exporter": "python",
   "pygments_lexer": "ipython3",
   "version": "3.5.5"
  }
 },
 "nbformat": 4,
 "nbformat_minor": 2
}
